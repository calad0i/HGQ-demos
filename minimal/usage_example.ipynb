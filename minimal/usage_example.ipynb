{
    "cells": [
        {
            "cell_type": "code",
            "execution_count": 1,
            "metadata": {},
            "outputs": [],
            "source": [
                "import os\n",
                "os.environ['TF_CPP_MIN_LOG_LEVEL'] = '3'\n",
                "os.environ['CUDA_VISIBLE_DEVICES'] = '-1'\n",
                "\n",
                "import tensorflow as tf\n",
                "from tensorflow import keras\n",
                "\n",
                "tf.get_logger().setLevel('ERROR')\n",
                "\n",
                "import numpy as np\n",
                "\n",
                "import matplotlib as mpl\n",
                "from matplotlib import pyplot as plt"
            ]
        },
        {
            "cell_type": "code",
            "execution_count": 2,
            "metadata": {},
            "outputs": [],
            "source": [
                "import random\n",
                "\n",
                "seed = 42\n",
                "\n",
                "np.random.seed(seed)\n",
                "tf.random.set_seed(seed)\n",
                "os.environ['PYTHONHASHSEED'] = str(seed)\n",
                "random.seed(seed)\n",
                "\n",
                "tf.config.experimental.enable_op_determinism()"
            ]
        },
        {
            "cell_type": "code",
            "execution_count": 3,
            "metadata": {},
            "outputs": [],
            "source": [
                "from HGQ import get_default_kq_conf, get_default_paq_conf\n",
                "from HGQ import set_default_kq_conf, set_default_paq_conf\n",
                "from HGQ import HDense, HQuantize\n",
                "from HGQ.bops import trace_minmax, ResetMinMax, FreeBOPs\n",
                "from HGQ import to_proxy_model"
            ]
        },
        {
            "cell_type": "code",
            "execution_count": 4,
            "metadata": {},
            "outputs": [],
            "source": [
                "import HGQ\n",
                "kq_conf = get_default_kq_conf()\n",
                "paq_conf = get_default_paq_conf()\n",
                "\n",
                "kq_conf['regularizer'] = None\n",
                "paq_conf['regularizer'] = None\n",
                "\n",
                "set_default_kq_conf(kq_conf)\n",
                "set_default_paq_conf(paq_conf)"
            ]
        },
        {
            "cell_type": "code",
            "execution_count": 5,
            "metadata": {},
            "outputs": [],
            "source": [
                "beta = 1e-3\n",
                "\n",
                "# The first layer must be quantized, either by using HQuantize or Signature layers.\n",
                "# Use only layers provided by HGQ. You can use functional API as well.\n",
                "model = keras.Sequential([\n",
                "    HQuantize(beta=beta, input_shape=(1,)),\n",
                "    HDense(3, activation='relu', beta=beta),\n",
                "    HDense(3, activation='relu', beta=beta),\n",
                "    HDense(3, activation='relu', beta=beta),\n",
                "    HDense(1, beta=beta),\n",
                "])"
            ]
        },
        {
            "cell_type": "code",
            "execution_count": 6,
            "metadata": {},
            "outputs": [],
            "source": [
                "opt = keras.optimizers.Adam(learning_rate = 0.002)\n",
                "loss = keras.losses.MeanSquaredError()\n",
                "model.compile(loss = loss, optimizer = opt)\n",
                "callbacks = [ResetMinMax(), FreeBOPs()]"
            ]
        },
        {
            "cell_type": "code",
            "execution_count": 7,
            "metadata": {},
            "outputs": [],
            "source": [
                "x = np.random.uniform(-3, 3, 100000).astype(np.float32)\n",
                "y = x**2"
            ]
        },
        {
            "cell_type": "code",
            "execution_count": 8,
            "metadata": {},
            "outputs": [
                {
                    "name": "stdout",
                    "output_type": "stream",
                    "text": [
                        "Epoch 1/10\n",
                        "704/704 [==============================] - 6s 4ms/step - loss: 2.8872 - val_loss: 0.4973 - bops: 267.0000\n",
                        "Epoch 2/10\n",
                        "704/704 [==============================] - 1s 2ms/step - loss: 0.4481 - val_loss: 0.3656 - bops: 230.0000\n",
                        "Epoch 3/10\n",
                        "704/704 [==============================] - 1s 2ms/step - loss: 0.3652 - val_loss: 0.3069 - bops: 217.0000\n",
                        "Epoch 4/10\n",
                        "704/704 [==============================] - 1s 2ms/step - loss: 0.3188 - val_loss: 0.3231 - bops: 202.0000\n",
                        "Epoch 5/10\n",
                        "704/704 [==============================] - 1s 2ms/step - loss: 0.2870 - val_loss: 0.2341 - bops: 191.0000\n",
                        "Epoch 6/10\n",
                        "704/704 [==============================] - 2s 2ms/step - loss: 0.2801 - val_loss: 0.2355 - bops: 174.0000\n",
                        "Epoch 7/10\n",
                        "704/704 [==============================] - 1s 2ms/step - loss: 0.2800 - val_loss: 0.2449 - bops: 180.0000\n",
                        "Epoch 8/10\n",
                        "704/704 [==============================] - 1s 2ms/step - loss: 0.2718 - val_loss: 0.2807 - bops: 186.0000\n",
                        "Epoch 9/10\n",
                        "704/704 [==============================] - 1s 2ms/step - loss: 0.2877 - val_loss: 0.2187 - bops: 172.0000\n",
                        "Epoch 10/10\n",
                        "704/704 [==============================] - 1s 2ms/step - loss: 0.2460 - val_loss: 0.2643 - bops: 172.0000\n"
                    ]
                },
                {
                    "data": {
                        "text/plain": [
                            "<keras.src.callbacks.History at 0x7f8e2f5d7e10>"
                        ]
                    },
                    "execution_count": 8,
                    "metadata": {},
                    "output_type": "execute_result"
                }
            ],
            "source": [
                "model.fit(x, y, batch_size=128, epochs=10, validation_split=0.1, callbacks=callbacks)"
            ]
        },
        {
            "cell_type": "code",
            "execution_count": 9,
            "metadata": {},
            "outputs": [],
            "source": [
                "x0 = np.linspace(-3,3,2000).astype(np.float32)\n",
                "yp = model.predict(x0, batch_size=1000, verbose=0) # type: ignore"
            ]
        },
        {
            "cell_type": "code",
            "execution_count": 10,
            "metadata": {},
            "outputs": [
                {
                    "data": {
                        "image/png": "[encoded data removed]",
                        "text/plain": [
                            "<Figure size 640x480 with 1 Axes>"
                        ]
                    },
                    "metadata": {},
                    "output_type": "display_data"
                }
            ],
            "source": [
                "plt.axes(xlabel='Input', ylabel='Output')\n",
                "plt.plot(x0, x0**2, label='true')\n",
                "plt.plot(x0, yp, label='pred')\n",
                "plt.legend()\n",
                "plt.show()"
            ]
        },
        {
            "cell_type": "code",
            "execution_count": 11,
            "metadata": {},
            "outputs": [
                {
                    "name": "stdout",
                    "output_type": "stream",
                    "text": [
                        "h_quantize: 0.0\n",
                        "h_dense: 48.0\n",
                        "h_dense_1: 42.0\n",
                        "h_dense_2: 36.0\n",
                        "h_dense_3: 26.0\n"
                    ]
                },
                {
                    "data": {
                        "text/plain": [
                            "152.0"
                        ]
                    },
                    "execution_count": 11,
                    "metadata": {},
                    "output_type": "execute_result"
                }
            ],
            "source": [
                "# This is necessary before converting the model to a proxy model.\n",
                "# It also determines the full bitwidth (integer part) necessary for conversion.\n",
                "trace_minmax(model, x0, bsz=1000)"
            ]
        },
        {
            "cell_type": "code",
            "execution_count": 12,
            "metadata": {},
            "outputs": [],
            "source": [
                "# Intermediate model for hls4ml conversion.\n",
                "# This is also a bit-accurate emulator of the hls4ml converted model up to float precision.\n",
                "proxy = to_proxy_model(model)"
            ]
        },
        {
            "cell_type": "code",
            "execution_count": 13,
            "metadata": {},
            "outputs": [
                {
                    "name": "stdout",
                    "output_type": "stream",
                    "text": [
                        "Interpreting Model\n",
                        "Topology:\n",
                        "Layer name: input_1, layer type: InputLayer, input shapes: [[None, 1]], output shape: [None, 1]\n",
                        "Layer name: h_quantize, layer type: FixedPointQuantizer, input shapes: [[None, 1]], output shape: [None, 1]\n",
                        "Layer name: h_dense, layer type: Dense, input shapes: [[None, 1]], output shape: [None, 3]\n",
                        "Layer name: h_dense_quantizer, layer type: FixedPointQuantizer, input shapes: [[None, 3]], output shape: [None, 3]\n",
                        "Layer name: re_lu, layer type: Activation, input shapes: [[None, 3]], output shape: [None, 3]\n",
                        "Layer name: h_dense_relu_quantizer, layer type: FixedPointQuantizer, input shapes: [[None, 3]], output shape: [None, 3]\n",
                        "Layer name: h_dense_1, layer type: Dense, input shapes: [[None, 3]], output shape: [None, 3]\n",
                        "Layer name: h_dense_1_quantizer, layer type: FixedPointQuantizer, input shapes: [[None, 3]], output shape: [None, 3]\n",
                        "Layer name: re_lu_1, layer type: Activation, input shapes: [[None, 3]], output shape: [None, 3]\n",
                        "Layer name: h_dense_1_relu_quantizer, layer type: FixedPointQuantizer, input shapes: [[None, 3]], output shape: [None, 3]\n",
                        "Layer name: h_dense_2, layer type: Dense, input shapes: [[None, 3]], output shape: [None, 3]\n",
                        "Layer name: h_dense_2_quantizer, layer type: FixedPointQuantizer, input shapes: [[None, 3]], output shape: [None, 3]\n",
                        "Layer name: re_lu_2, layer type: Activation, input shapes: [[None, 3]], output shape: [None, 3]\n",
                        "Layer name: h_dense_2_relu_quantizer, layer type: FixedPointQuantizer, input shapes: [[None, 3]], output shape: [None, 3]\n",
                        "Layer name: h_dense_3, layer type: Dense, input shapes: [[None, 3]], output shape: [None, 1]\n",
                        "Layer name: h_dense_3_quantizer, layer type: FixedPointQuantizer, input shapes: [[None, 1]], output shape: [None, 1]\n",
                        "Creating HLS model\n"
                    ]
                }
            ],
            "source": [
                "from hls4ml.converters import convert_from_keras_model\n",
                "\n",
                "# Use the proxy model here!\n",
                "model_hls = convert_from_keras_model(\n",
                "    proxy,\n",
                "    'hls4ml_prj',\n",
                "    part='xcvu9p-flga2104-2L-e',\n",
                "    clock_period=5,\n",
                ")"
            ]
        },
        {
            "cell_type": "code",
            "execution_count": 14,
            "metadata": {},
            "outputs": [
                {
                    "name": "stdout",
                    "output_type": "stream",
                    "text": [
                        "Writing HLS project\n",
                        "Done\n"
                    ]
                },
                {
                    "name": "stderr",
                    "output_type": "stream",
                    "text": [
                        "/home/calad/micromamba/envs/HGQ/lib/python3.11/site-packages/keras/src/engine/training.py:3000: UserWarning: You are saving your model as an HDF5 file via `model.save()`. This file format is considered legacy. We recommend using instead the native Keras format, e.g. `model.save('my_model.keras')`.\n",
                        "  saving_api.save_model(\n"
                    ]
                }
            ],
            "source": [
                "# Notice that the tarball file generated by hls4ml should NOT be used when using HGQ, as it is not patched.\n",
                "model_hls.compile()"
            ]
        },
        {
            "cell_type": "code",
            "execution_count": 15,
            "metadata": {},
            "outputs": [],
            "source": [
                "hls_p = model_hls.predict(x0).ravel()\n",
                "keras_p = model.predict(x0, batch_size=1000, verbose=0).ravel() # type: ignore"
            ]
        },
        {
            "cell_type": "code",
            "execution_count": 16,
            "metadata": {},
            "outputs": [
                {
                    "data": {
                        "text/plain": [
                            "True"
                        ]
                    },
                    "execution_count": 16,
                    "metadata": {},
                    "output_type": "execute_result"
                }
            ],
            "source": [
                "np.all(hls_p==keras_p) # bit-accurate"
            ]
        },
        {
            "cell_type": "code",
            "execution_count": 17,
            "metadata": {},
            "outputs": [
                {
                    "name": "stderr",
                    "output_type": "stream",
                    "text": [
                        "/home/calad/repo/FHQ/src/HGQ/bops/bops.py:64: UserWarning: \u001b[93mcover_factor<1.0 will likely to result in overflows.\u001b[0m\n",
                        "  warn(f'cover_factor<1.0 will likely to result in overflows.')\n"
                    ]
                },
                {
                    "name": "stdout",
                    "output_type": "stream",
                    "text": [
                        "h_quantize: 0.0\n",
                        "h_dense: 40.0\n",
                        "h_dense_1: 32.0\n",
                        "h_dense_2: 30.0\n",
                        "h_dense_3: 24.0\n",
                        "ebops: 126.0\n"
                    ]
                }
            ],
            "source": [
                "# As HGQ aims for minimal latency, all fixed point values have ovverflow mode WRAP by default.\n",
                "# Though not recommended in most cases, you may disable this behavior by setting aggressive=False in to_proxy_model.\n",
                "# Instead, you could set cover_factor in trace_minmax to a higher value to prevent overflow statistically.\n",
                "\n",
                "# Now let's create a model that overflows\n",
                "# As bitwidths decreases in general, total ebops also decreases.\n",
                "ebops =trace_minmax(model, x0, bsz=1000, cover_factor=0.5) # Cover factor<1.9 will overflow in general.\n",
                "print(f'ebops: {ebops}')\n",
                "proxy_overflow = to_proxy_model(model)"
            ]
        },
        {
            "cell_type": "code",
            "execution_count": 18,
            "metadata": {},
            "outputs": [
                {
                    "name": "stdout",
                    "output_type": "stream",
                    "text": [
                        "Interpreting Model\n",
                        "Topology:\n",
                        "Layer name: input_6, layer type: InputLayer, input shapes: [[None, 1]], output shape: [None, 1]\n",
                        "Layer name: h_quantize, layer type: FixedPointQuantizer, input shapes: [[None, 1]], output shape: [None, 1]\n",
                        "Layer name: h_dense, layer type: Dense, input shapes: [[None, 1]], output shape: [None, 3]\n",
                        "Layer name: h_dense_quantizer, layer type: FixedPointQuantizer, input shapes: [[None, 3]], output shape: [None, 3]\n",
                        "Layer name: re_lu_3, layer type: Activation, input shapes: [[None, 3]], output shape: [None, 3]\n",
                        "Layer name: h_dense_relu_quantizer, layer type: FixedPointQuantizer, input shapes: [[None, 3]], output shape: [None, 3]\n",
                        "Layer name: h_dense_1, layer type: Dense, input shapes: [[None, 3]], output shape: [None, 3]\n",
                        "Layer name: h_dense_1_quantizer, layer type: FixedPointQuantizer, input shapes: [[None, 3]], output shape: [None, 3]\n",
                        "Layer name: re_lu_4, layer type: Activation, input shapes: [[None, 3]], output shape: [None, 3]\n",
                        "Layer name: h_dense_1_relu_quantizer, layer type: FixedPointQuantizer, input shapes: [[None, 3]], output shape: [None, 3]\n",
                        "Layer name: h_dense_2, layer type: Dense, input shapes: [[None, 3]], output shape: [None, 3]\n",
                        "Layer name: h_dense_2_quantizer, layer type: FixedPointQuantizer, input shapes: [[None, 3]], output shape: [None, 3]\n",
                        "Layer name: re_lu_5, layer type: Activation, input shapes: [[None, 3]], output shape: [None, 3]\n",
                        "Layer name: h_dense_2_relu_quantizer, layer type: FixedPointQuantizer, input shapes: [[None, 3]], output shape: [None, 3]\n",
                        "Layer name: h_dense_3, layer type: Dense, input shapes: [[None, 3]], output shape: [None, 1]\n",
                        "Layer name: h_dense_3_quantizer, layer type: FixedPointQuantizer, input shapes: [[None, 1]], output shape: [None, 1]\n",
                        "Creating HLS model\n"
                    ]
                }
            ],
            "source": [
                "model_hls_overflow = convert_from_keras_model(\n",
                "    proxy_overflow,\n",
                "    'hls4ml_prj',\n",
                "    part='xcvu9p-flga2104-2L-e',\n",
                "    clock_period=5,\n",
                ")"
            ]
        },
        {
            "cell_type": "code",
            "execution_count": 19,
            "metadata": {},
            "outputs": [
                {
                    "name": "stdout",
                    "output_type": "stream",
                    "text": [
                        "Writing HLS project\n",
                        "Done\n"
                    ]
                }
            ],
            "source": [
                "model_hls_overflow.compile()"
            ]
        },
        {
            "cell_type": "code",
            "execution_count": 20,
            "metadata": {},
            "outputs": [],
            "source": [
                "hls_p_overflow = model_hls_overflow.predict(x0).ravel()\n",
                "keras_p_overflow = model.predict(x0, batch_size=1000, verbose=0).ravel() # type: ignore\n",
                "proxy_p_overflow = proxy_overflow.predict(x0, batch_size=1000, verbose=0).ravel() # type: ignore"
            ]
        },
        {
            "cell_type": "code",
            "execution_count": 21,
            "metadata": {},
            "outputs": [
                {
                    "data": {
                        "text/plain": [
                            "0.5835"
                        ]
                    },
                    "execution_count": 21,
                    "metadata": {},
                    "output_type": "execute_result"
                }
            ],
            "source": [
                "np.mean(hls_p_overflow==keras_p_overflow) # overflows!"
            ]
        },
        {
            "cell_type": "code",
            "execution_count": 22,
            "metadata": {},
            "outputs": [
                {
                    "data": {
                        "text/plain": [
                            "True"
                        ]
                    },
                    "execution_count": 22,
                    "metadata": {},
                    "output_type": "execute_result"
                }
            ],
            "source": [
                "np.all(hls_p_overflow==proxy_p_overflow) # bit-accurate"
            ]
        }
    ],
    "metadata": {
        "kernelspec": {
            "display_name": "hgq",
            "language": "python",
            "name": "python3"
        },
        "language_info": {
            "codemirror_mode": {
                "name": "ipython",
                "version": 3
            },
            "file_extension": ".py",
            "mimetype": "text/x-python",
            "name": "python",
            "nbconvert_exporter": "python",
            "pygments_lexer": "ipython3",
            "version": "3.11.7"
        },
        "orig_nbformat": 4
    },
    "nbformat": 4,
    "nbformat_minor": 2
}
